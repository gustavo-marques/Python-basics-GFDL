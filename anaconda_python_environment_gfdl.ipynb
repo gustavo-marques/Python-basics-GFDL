{
 "cells": [
  {
   "cell_type": "markdown",
   "metadata": {},
   "source": [
    "# Setting up a Python environment\n",
    "\n",
    "Python is a programming language, but in order to use it on a computer, you have to install some implementation of it. A number of them exist (including the reference implementation CPython) but the one that has gained popularity here at GFDL is Anaconda. One of the main advantages of Anaconda is how simple it makes installing new Python packages (new capabilities) on your own machine. \n",
    "\n",
    "One important note is that two major versions of Python exist- Python 2 and Python 3. Python 3 is under active development and is thus recommended for most people who are learning the langauge. For this tutorial, we'll be assuming that you have the **Python 3.6** distribution of Anaconda or Miniconda \n",
    "\n",
    "## Installing Anaconda\n",
    "There are two different types of Anaconda installations. Miniconda is the barebones version which can be expanded on later. The regular Anaconda version includes a huge amount of curated packages. \n",
    "\n",
    "### Miniconda\n",
    "This is the preferred version for people who like to add packages as needed. A quick installation guide is provided here: https://conda.io/docs/install/quick.html\n",
    "\n",
    "### Anaconda\n",
    "This version is preferred for people who prefer a 'one size fits most' ideology. Note that this requires about 3GB of disk space. Installation guide can be found here: https://docs.continuum.io/anaconda/install\n",
    "\n",
    "## Tutorial-specific packages\n",
    "Whichever version you choose, you should issue the following command in your operating system's command prompt to make sure that the packages used for the tutorial are installed:\n",
    "\n",
    "```shell\n",
    "conda install numpy scipy netcdf4 matplotlib ipython jupyter\n",
    "conda install -c conda-forge basemap cmocean\n",
    "```"
   ]
  },
  {
   "cell_type": "code",
   "execution_count": null,
   "metadata": {
    "collapsed": true
   },
   "outputs": [],
   "source": []
  }
 ],
 "metadata": {
  "kernelspec": {
   "display_name": "Python 3",
   "language": "python",
   "name": "python3"
  },
  "language_info": {
   "codemirror_mode": {
    "name": "ipython",
    "version": 3
   },
   "file_extension": ".py",
   "mimetype": "text/x-python",
   "name": "python",
   "nbconvert_exporter": "python",
   "pygments_lexer": "ipython3",
   "version": "3.6.0"
  },
  "widgets": {
   "state": {},
   "version": "1.1.2"
  }
 },
 "nbformat": 4,
 "nbformat_minor": 2
}
